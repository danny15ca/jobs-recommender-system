{
 "cells": [
  {
   "cell_type": "code",
   "execution_count": 1,
   "id": "8cd5e08f",
   "metadata": {},
   "outputs": [],
   "source": [
    "import numpy as np\n",
    "import pandas as pd\n",
    "from sklearn.metrics.pairwise import cosine_similarity\n",
    "import matplotlib.pyplot as plt\n",
    "import nltk\n",
    "import re\n",
    "from nltk.corpus import stopwords\n",
    "from sklearn.feature_extraction.text import TfidfVectorizer\n",
    "from nltk.stem import WordNetLemmatizer, PorterStemmer\n",
    "import string"
   ]
  },
  {
   "cell_type": "markdown",
   "id": "9b15a809",
   "metadata": {},
   "source": [
    "## Loading the Occupation-Education Dataset"
   ]
  },
  {
   "cell_type": "code",
   "execution_count": 2,
   "id": "1bb1376b",
   "metadata": {},
   "outputs": [
    {
     "data": {
      "text/plain": [
       "(2210, 2)"
      ]
     },
     "execution_count": 2,
     "metadata": {},
     "output_type": "execute_result"
    }
   ],
   "source": [
    "occ_edu_df = pd.read_csv(\"data/occupation_education.csv\", delimiter=\"|\")\n",
    "occ_edu_df.shape"
   ]
  },
  {
   "cell_type": "markdown",
   "id": "b65ac71f",
   "metadata": {},
   "source": [
    "## Loading the Occupation-Skillset Dataset"
   ]
  },
  {
   "cell_type": "code",
   "execution_count": 3,
   "id": "59e5c962",
   "metadata": {},
   "outputs": [
    {
     "data": {
      "text/html": [
       "<div>\n",
       "<style scoped>\n",
       "    .dataframe tbody tr th:only-of-type {\n",
       "        vertical-align: middle;\n",
       "    }\n",
       "\n",
       "    .dataframe tbody tr th {\n",
       "        vertical-align: top;\n",
       "    }\n",
       "\n",
       "    .dataframe thead th {\n",
       "        text-align: right;\n",
       "    }\n",
       "</style>\n",
       "<table border=\"1\" class=\"dataframe\">\n",
       "  <thead>\n",
       "    <tr style=\"text-align: right;\">\n",
       "      <th></th>\n",
       "      <th>OccupationCode</th>\n",
       "      <th>Skill</th>\n",
       "    </tr>\n",
       "  </thead>\n",
       "  <tbody>\n",
       "    <tr>\n",
       "      <th>0</th>\n",
       "      <td>11-3012.00</td>\n",
       "      <td>Learning Strategies</td>\n",
       "    </tr>\n",
       "    <tr>\n",
       "      <th>1</th>\n",
       "      <td>11-3031.03</td>\n",
       "      <td>Mathematics</td>\n",
       "    </tr>\n",
       "    <tr>\n",
       "      <th>2</th>\n",
       "      <td>11-3111.00</td>\n",
       "      <td>Instructing</td>\n",
       "    </tr>\n",
       "    <tr>\n",
       "      <th>3</th>\n",
       "      <td>11-9032.00</td>\n",
       "      <td>Reading Comprehension</td>\n",
       "    </tr>\n",
       "    <tr>\n",
       "      <th>4</th>\n",
       "      <td>11-9121.00</td>\n",
       "      <td>Science</td>\n",
       "    </tr>\n",
       "  </tbody>\n",
       "</table>\n",
       "</div>"
      ],
      "text/plain": [
       "  OccupationCode                  Skill\n",
       "0     11-3012.00    Learning Strategies\n",
       "1     11-3031.03            Mathematics\n",
       "2     11-3111.00            Instructing\n",
       "3     11-9032.00  Reading Comprehension\n",
       "4     11-9121.00                Science"
      ]
     },
     "execution_count": 3,
     "metadata": {},
     "output_type": "execute_result"
    }
   ],
   "source": [
    "occ_skill_df = pd.read_csv(\"data/occupation_skill.csv\", delimiter=\"|\")\n",
    "occ_skill_df.head()"
   ]
  },
  {
   "cell_type": "markdown",
   "id": "e3a3ce6e",
   "metadata": {},
   "source": [
    "## Loading the Occupation-Experience Dataset"
   ]
  },
  {
   "cell_type": "code",
   "execution_count": 4,
   "id": "b5fa95bd",
   "metadata": {},
   "outputs": [
    {
     "data": {
      "text/html": [
       "<div>\n",
       "<style scoped>\n",
       "    .dataframe tbody tr th:only-of-type {\n",
       "        vertical-align: middle;\n",
       "    }\n",
       "\n",
       "    .dataframe tbody tr th {\n",
       "        vertical-align: top;\n",
       "    }\n",
       "\n",
       "    .dataframe thead th {\n",
       "        text-align: right;\n",
       "    }\n",
       "</style>\n",
       "<table border=\"1\" class=\"dataframe\">\n",
       "  <thead>\n",
       "    <tr style=\"text-align: right;\">\n",
       "      <th></th>\n",
       "      <th>OccupationCode</th>\n",
       "      <th>ExperienceLevel</th>\n",
       "    </tr>\n",
       "  </thead>\n",
       "  <tbody>\n",
       "    <tr>\n",
       "      <th>0</th>\n",
       "      <td>11-1011.00</td>\n",
       "      <td>Over 1 year, up to and including 2 years</td>\n",
       "    </tr>\n",
       "    <tr>\n",
       "      <th>1</th>\n",
       "      <td>11-1011.00</td>\n",
       "      <td>Over 10 years</td>\n",
       "    </tr>\n",
       "    <tr>\n",
       "      <th>2</th>\n",
       "      <td>11-1011.00</td>\n",
       "      <td>Over 2 years, up to and including 4 years</td>\n",
       "    </tr>\n",
       "    <tr>\n",
       "      <th>3</th>\n",
       "      <td>11-1011.00</td>\n",
       "      <td>Over 4 years, up to and including 6 years</td>\n",
       "    </tr>\n",
       "    <tr>\n",
       "      <th>4</th>\n",
       "      <td>11-1011.00</td>\n",
       "      <td>Over 6 years, up to and including 8 years</td>\n",
       "    </tr>\n",
       "  </tbody>\n",
       "</table>\n",
       "</div>"
      ],
      "text/plain": [
       "  OccupationCode                            ExperienceLevel\n",
       "0     11-1011.00   Over 1 year, up to and including 2 years\n",
       "1     11-1011.00                              Over 10 years\n",
       "2     11-1011.00  Over 2 years, up to and including 4 years\n",
       "3     11-1011.00  Over 4 years, up to and including 6 years\n",
       "4     11-1011.00  Over 6 years, up to and including 8 years"
      ]
     },
     "execution_count": 4,
     "metadata": {},
     "output_type": "execute_result"
    }
   ],
   "source": [
    "occ_exp_df = pd.read_csv(\"data/occupation_experience.csv\", delimiter=\"|\")\n",
    "occ_exp_df.head()"
   ]
  },
  {
   "cell_type": "markdown",
   "id": "4e159eff",
   "metadata": {},
   "source": [
    "## Loading the Occupation Dataset"
   ]
  },
  {
   "cell_type": "code",
   "execution_count": 5,
   "id": "584a1f16",
   "metadata": {},
   "outputs": [
    {
     "data": {
      "text/html": [
       "<div>\n",
       "<style scoped>\n",
       "    .dataframe tbody tr th:only-of-type {\n",
       "        vertical-align: middle;\n",
       "    }\n",
       "\n",
       "    .dataframe tbody tr th {\n",
       "        vertical-align: top;\n",
       "    }\n",
       "\n",
       "    .dataframe thead th {\n",
       "        text-align: right;\n",
       "    }\n",
       "</style>\n",
       "<table border=\"1\" class=\"dataframe\">\n",
       "  <thead>\n",
       "    <tr style=\"text-align: right;\">\n",
       "      <th></th>\n",
       "      <th>OccupationCode</th>\n",
       "      <th>OccupationTitle</th>\n",
       "      <th>OccupationDescription</th>\n",
       "    </tr>\n",
       "  </thead>\n",
       "  <tbody>\n",
       "    <tr>\n",
       "      <th>0</th>\n",
       "      <td>11-1011.00</td>\n",
       "      <td>Chief Executives</td>\n",
       "      <td>Determine and formulate policies and provide o...</td>\n",
       "    </tr>\n",
       "    <tr>\n",
       "      <th>1</th>\n",
       "      <td>11-1011.03</td>\n",
       "      <td>Chief Sustainability Officers</td>\n",
       "      <td>Communicate and coordinate with management, sh...</td>\n",
       "    </tr>\n",
       "    <tr>\n",
       "      <th>2</th>\n",
       "      <td>11-1021.00</td>\n",
       "      <td>General and Operations Managers</td>\n",
       "      <td>Plan, direct, or coordinate the operations of ...</td>\n",
       "    </tr>\n",
       "    <tr>\n",
       "      <th>3</th>\n",
       "      <td>11-1031.00</td>\n",
       "      <td>Legislators</td>\n",
       "      <td>Develop, introduce, or enact laws and statutes...</td>\n",
       "    </tr>\n",
       "    <tr>\n",
       "      <th>4</th>\n",
       "      <td>11-2011.00</td>\n",
       "      <td>Advertising and Promotions Managers</td>\n",
       "      <td>Plan, direct, or coordinate advertising polici...</td>\n",
       "    </tr>\n",
       "  </tbody>\n",
       "</table>\n",
       "</div>"
      ],
      "text/plain": [
       "  OccupationCode                      OccupationTitle  \\\n",
       "0     11-1011.00                     Chief Executives   \n",
       "1     11-1011.03        Chief Sustainability Officers   \n",
       "2     11-1021.00      General and Operations Managers   \n",
       "3     11-1031.00                          Legislators   \n",
       "4     11-2011.00  Advertising and Promotions Managers   \n",
       "\n",
       "                               OccupationDescription  \n",
       "0  Determine and formulate policies and provide o...  \n",
       "1  Communicate and coordinate with management, sh...  \n",
       "2  Plan, direct, or coordinate the operations of ...  \n",
       "3  Develop, introduce, or enact laws and statutes...  \n",
       "4  Plan, direct, or coordinate advertising polici...  "
      ]
     },
     "execution_count": 5,
     "metadata": {},
     "output_type": "execute_result"
    }
   ],
   "source": [
    "occ_df = pd.read_csv(\"data/occupation.csv\", delimiter=\"|\")\n",
    "occ_df.head()"
   ]
  },
  {
   "cell_type": "code",
   "execution_count": 6,
   "id": "9cb78599",
   "metadata": {},
   "outputs": [
    {
     "name": "stdout",
     "output_type": "stream",
     "text": [
      "1016\n"
     ]
    }
   ],
   "source": [
    "# Removing duplicates in the OccupationTitle column\n",
    "occ_df = occ_df.drop_duplicates(subset=[\"OccupationTitle\"])\n",
    "print(occ_df.shape[0])"
   ]
  },
  {
   "cell_type": "markdown",
   "id": "4cff3abb",
   "metadata": {},
   "source": [
    "## Merge the Occupation and Occupation-Skillset DataFrames"
   ]
  },
  {
   "cell_type": "code",
   "execution_count": 7,
   "id": "f3adfc09",
   "metadata": {},
   "outputs": [
    {
     "data": {
      "text/html": [
       "<div>\n",
       "<style scoped>\n",
       "    .dataframe tbody tr th:only-of-type {\n",
       "        vertical-align: middle;\n",
       "    }\n",
       "\n",
       "    .dataframe tbody tr th {\n",
       "        vertical-align: top;\n",
       "    }\n",
       "\n",
       "    .dataframe thead th {\n",
       "        text-align: right;\n",
       "    }\n",
       "</style>\n",
       "<table border=\"1\" class=\"dataframe\">\n",
       "  <thead>\n",
       "    <tr style=\"text-align: right;\">\n",
       "      <th></th>\n",
       "      <th>JobCode</th>\n",
       "      <th>Title</th>\n",
       "      <th>Description</th>\n",
       "      <th>EducationLevel</th>\n",
       "      <th>Skill</th>\n",
       "      <th>ExperienceLevel</th>\n",
       "    </tr>\n",
       "  </thead>\n",
       "  <tbody>\n",
       "    <tr>\n",
       "      <th>0</th>\n",
       "      <td>11-1011.00</td>\n",
       "      <td>Chief Executives</td>\n",
       "      <td>Determine and formulate policies and provide o...</td>\n",
       "      <td>Bachelor's Degree</td>\n",
       "      <td>Technology Design</td>\n",
       "      <td>Over 1 year, up to and including 2 years</td>\n",
       "    </tr>\n",
       "    <tr>\n",
       "      <th>1</th>\n",
       "      <td>11-1011.00</td>\n",
       "      <td>Chief Executives</td>\n",
       "      <td>Determine and formulate policies and provide o...</td>\n",
       "      <td>Bachelor's Degree</td>\n",
       "      <td>Technology Design</td>\n",
       "      <td>Over 10 years</td>\n",
       "    </tr>\n",
       "    <tr>\n",
       "      <th>2</th>\n",
       "      <td>11-1011.00</td>\n",
       "      <td>Chief Executives</td>\n",
       "      <td>Determine and formulate policies and provide o...</td>\n",
       "      <td>Bachelor's Degree</td>\n",
       "      <td>Technology Design</td>\n",
       "      <td>Over 2 years, up to and including 4 years</td>\n",
       "    </tr>\n",
       "    <tr>\n",
       "      <th>3</th>\n",
       "      <td>11-1011.00</td>\n",
       "      <td>Chief Executives</td>\n",
       "      <td>Determine and formulate policies and provide o...</td>\n",
       "      <td>Bachelor's Degree</td>\n",
       "      <td>Technology Design</td>\n",
       "      <td>Over 4 years, up to and including 6 years</td>\n",
       "    </tr>\n",
       "    <tr>\n",
       "      <th>4</th>\n",
       "      <td>11-1011.00</td>\n",
       "      <td>Chief Executives</td>\n",
       "      <td>Determine and formulate policies and provide o...</td>\n",
       "      <td>Bachelor's Degree</td>\n",
       "      <td>Technology Design</td>\n",
       "      <td>Over 6 years, up to and including 8 years</td>\n",
       "    </tr>\n",
       "  </tbody>\n",
       "</table>\n",
       "</div>"
      ],
      "text/plain": [
       "      JobCode             Title  \\\n",
       "0  11-1011.00  Chief Executives   \n",
       "1  11-1011.00  Chief Executives   \n",
       "2  11-1011.00  Chief Executives   \n",
       "3  11-1011.00  Chief Executives   \n",
       "4  11-1011.00  Chief Executives   \n",
       "\n",
       "                                         Description     EducationLevel  \\\n",
       "0  Determine and formulate policies and provide o...  Bachelor's Degree   \n",
       "1  Determine and formulate policies and provide o...  Bachelor's Degree   \n",
       "2  Determine and formulate policies and provide o...  Bachelor's Degree   \n",
       "3  Determine and formulate policies and provide o...  Bachelor's Degree   \n",
       "4  Determine and formulate policies and provide o...  Bachelor's Degree   \n",
       "\n",
       "               Skill                            ExperienceLevel  \n",
       "0  Technology Design   Over 1 year, up to and including 2 years  \n",
       "1  Technology Design                              Over 10 years  \n",
       "2  Technology Design  Over 2 years, up to and including 4 years  \n",
       "3  Technology Design  Over 4 years, up to and including 6 years  \n",
       "4  Technology Design  Over 6 years, up to and including 8 years  "
      ]
     },
     "execution_count": 7,
     "metadata": {},
     "output_type": "execute_result"
    }
   ],
   "source": [
    "jobs = occ_df.merge(occ_edu_df, on=\"OccupationCode\")\n",
    "jobs = jobs.merge(occ_skill_df, on=\"OccupationCode\")\n",
    "jobs = jobs.merge(occ_exp_df, on=\"OccupationCode\")\n",
    "jobs = jobs.rename(columns={\"OccupationCode\": \"JobCode\",\n",
    "                            \"OccupationTitle\": \"Title\",\n",
    "                            \"OccupationDescription\": \"Description\"})\n",
    "jobs.head()"
   ]
  },
  {
   "cell_type": "code",
   "execution_count": 8,
   "id": "3243f86f",
   "metadata": {},
   "outputs": [],
   "source": [
    "# The INPUT: user's information\n",
    "user_profile = {\n",
    "    \"skills\": \"Wilhelm Publishing Threshold\",\n",
    "    \"education\": \"Associate's Degree\",\n",
    "    \"experience\": \"3 years of experience\"\n",
    "}\n",
    "\n",
    "# Convert the above object into a DataFrame\n",
    "user_df = pd.DataFrame([user_profile])"
   ]
  },
  {
   "cell_type": "code",
   "execution_count": 9,
   "id": "444fc19d",
   "metadata": {},
   "outputs": [],
   "source": [
    "# Function to perform tokenization, stop word removal, and\n",
    "# stemming/lemmatization\n",
    "def tokenize(text):\n",
    "    tokens = text.split() # simple tokenization by splitting text on spaces\n",
    "    tokens = [token.lower() for token in tokens if token.isalpha()] # remove non-alphabetic tokens and convert to lowercase\n",
    "    return tokens"
   ]
  },
  {
   "cell_type": "code",
   "execution_count": 10,
   "id": "cb30860d",
   "metadata": {},
   "outputs": [
    {
     "name": "stdout",
     "output_type": "stream",
     "text": [
      "['Plumbers, Pipefitters, and Steamfitters', 'Carpenters', 'Drywall and Ceiling Tile Installers', 'Advertising and Promotions Managers', 'Compliance Managers']\n"
     ]
    }
   ],
   "source": [
    "# Vectorize the text features using TF-IDF\n",
    "tfidf = TfidfVectorizer(stop_words=\"english\")\n",
    "\n",
    "# Concatenate 'Title' and 'Description' columns for each job\n",
    "corpus = jobs[\"Skill\"] + \" \" + \\\n",
    "            jobs[\"Description\"] + \" \" + \\\n",
    "            jobs[\"EducationLevel\"]\n",
    "tfidf_matrix = tfidf.fit_transform(corpus)\n",
    "\n",
    "# Vectorize user's skills\n",
    "user_data = user_df[\"skills\"] + \" \" + \\\n",
    "            user_df[\"education\"] + \" \" + \\\n",
    "            user_df[\"experience\"]\n",
    "user_data_tokens = tokenize(user_data[0])\n",
    "user_data = \" \".join(user_data_tokens)\n",
    "user_skill_vector = tfidf.transform([user_data])\n",
    "\n",
    "# Choose top k-related jobs\n",
    "k = 5\n",
    "\n",
    "# Calculate the cosine similarity between the user and each job based on\n",
    "# the text features\n",
    "cosine_similarity_indices = cosine_similarity(\n",
    "                                user_skill_vector, \\\n",
    "                                tfidf_matrix).argsort()[0][::-1]\n",
    "recommended_titles = jobs.iloc[cosine_similarity_indices][\"Title\"] \\\n",
    "                        .drop_duplicates()\n",
    "recommended_jobs = []\n",
    "for i in range(0, k):\n",
    "    recommended_jobs.append(recommended_titles.iloc[i])\n",
    "print(recommended_jobs)"
   ]
  },
  {
   "cell_type": "code",
   "execution_count": 21,
   "id": "d1c3134a",
   "metadata": {},
   "outputs": [
    {
     "data": {
      "text/html": [
       "<div>\n",
       "<style scoped>\n",
       "    .dataframe tbody tr th:only-of-type {\n",
       "        vertical-align: middle;\n",
       "    }\n",
       "\n",
       "    .dataframe tbody tr th {\n",
       "        vertical-align: top;\n",
       "    }\n",
       "\n",
       "    .dataframe thead th {\n",
       "        text-align: right;\n",
       "    }\n",
       "</style>\n",
       "<table border=\"1\" class=\"dataframe\">\n",
       "  <thead>\n",
       "    <tr style=\"text-align: right;\">\n",
       "      <th></th>\n",
       "      <th>OccupationCode</th>\n",
       "      <th>JobTitle</th>\n",
       "      <th>JobPostingLink</th>\n",
       "    </tr>\n",
       "  </thead>\n",
       "  <tbody>\n",
       "    <tr>\n",
       "      <th>0</th>\n",
       "      <td>25-9049.00</td>\n",
       "      <td>Instructor's Assistant</td>\n",
       "      <td>https://www.glassdoor.ca/partner/jobListing.ht...</td>\n",
       "    </tr>\n",
       "    <tr>\n",
       "      <th>1</th>\n",
       "      <td>29-1213.00</td>\n",
       "      <td>Brow Expert Beautician Estheticians</td>\n",
       "      <td>https://www.glassdoor.ca/partner/jobListing.ht...</td>\n",
       "    </tr>\n",
       "    <tr>\n",
       "      <th>2</th>\n",
       "      <td>53-7051.00</td>\n",
       "      <td>AZ / Class 1 Owner Operator Long Haul</td>\n",
       "      <td>https://www.glassdoor.ca/partner/jobListing.ht...</td>\n",
       "    </tr>\n",
       "    <tr>\n",
       "      <th>3</th>\n",
       "      <td>31-9091.00</td>\n",
       "      <td>Associate Dentist - Kallanpally Dental, Slave ...</td>\n",
       "      <td>https://www.glassdoor.ca/partner/jobListing.ht...</td>\n",
       "    </tr>\n",
       "    <tr>\n",
       "      <th>4</th>\n",
       "      <td>43-6014.00</td>\n",
       "      <td>Executive Administrative Assistant</td>\n",
       "      <td>https://www.glassdoor.ca/partner/jobListing.ht...</td>\n",
       "    </tr>\n",
       "  </tbody>\n",
       "</table>\n",
       "</div>"
      ],
      "text/plain": [
       "  OccupationCode                                           JobTitle  \\\n",
       "0     25-9049.00                             Instructor's Assistant   \n",
       "1     29-1213.00                Brow Expert Beautician Estheticians   \n",
       "2     53-7051.00              AZ / Class 1 Owner Operator Long Haul   \n",
       "3     31-9091.00  Associate Dentist - Kallanpally Dental, Slave ...   \n",
       "4     43-6014.00                 Executive Administrative Assistant   \n",
       "\n",
       "                                      JobPostingLink  \n",
       "0  https://www.glassdoor.ca/partner/jobListing.ht...  \n",
       "1  https://www.glassdoor.ca/partner/jobListing.ht...  \n",
       "2  https://www.glassdoor.ca/partner/jobListing.ht...  \n",
       "3  https://www.glassdoor.ca/partner/jobListing.ht...  \n",
       "4  https://www.glassdoor.ca/partner/jobListing.ht...  "
      ]
     },
     "execution_count": 21,
     "metadata": {},
     "output_type": "execute_result"
    }
   ],
   "source": [
    "occ_postings_df = pd.read_csv(\"data/occupation_jobposting.csv\",\n",
    "                              delimiter=\"|\",\n",
    "                             encoding=\"cp1252\")\n",
    "occ_postings_df.head()"
   ]
  },
  {
   "cell_type": "code",
   "execution_count": 25,
   "id": "934716ed",
   "metadata": {},
   "outputs": [
    {
     "name": "stdout",
     "output_type": "stream",
     "text": [
      "{'jobs': [{'title': 'Plumbers, Pipefitters, and Steamfitters', 'url': ['https://www.glassdoor.com/job-listing/pipefitter-stc-industrial-group-JV_KO0,10_KE11,31.htm?jl=1008459218076&pos=102&ao=1110586&s=58&guid=000001872c2ba5939d7f2ac1d4a2fef1&src=GD_JOB_AD&t=SR&vt=w&uido=A63304B0593C1B92ACDF619295BA197D&ea=1&cs=1_82a19d4b&cb=1680073271021&jobListingId=1008459218076&cpc=451933188B21919D&jrtk=3-0-1gsm2n9dlkhq7801-1gsm2n9f5h7je801-760538a7cef9a07f--6NYlbfkN0BSj-91pRXoy0lNcNWaeAUDdWkq-KtJsWcP0fl2cdJD4kg_C1JmXuuJfVula4ExGZy85kCb-btkDzI33suV9LwoiCKfJz7G6mNNtSdtDZsbBOqBkS79SuzMq0QRDcQhG3oBs87JowPmawyRos8zHVYRgsrka5p-X8k4Pv00b-2Zf-g4C31jFIPckZMdg8B3eRGGxXqRrZjoM_q89c32XU-n5LoD2J_Kpnkqrg-WYczxLykDWWZ37IqlM4r_OhDrmRucNJ8YL_fdy-__WAcDdQ2c8HA6Rj42zm85eQePqEbesenrMbglThbhwZuqMnQy7ZK5x7MiX9n3ppYNrKpb46pAQQ358jaXple4i4wEVOtYyToLyJjptMAmp7c7b1ghfHL2uNuVCWyjTXK73vgzpZ6dywoPv4dh1bh3Wc9ydyyYF7JuPcpAZCtiz_9CmxamI6gmRni4I1yLnEy_ERGXXYHhp5q925pRf0NcJe-p4GYKzMeQpyfdroAe-Y_Jal_TU08OfEmIjMc0rqYCNxSi5uQakFPSYwLi_pcSpg17SP-h-1TWZKJTE1Lv&ctt=1680073300350', 'https://www.glassdoor.com/partner/jobListing.htm?pos=115&ao=1136043&s=58&guid=000001872c2ba1b1a2b99f305f7cd422&src=GD_JOB_AD&t=SR&vt=w&ea=1&cs=1_79e81258&cb=1680073270062&jobListingId=1008535151399&jrtk=3-0-1gsm2n8efh7ip801-1gsm2n8evhaom800-31c8e0eae2820e85-', 'https://www.glassdoor.com/partner/jobListing.htm?pos=117&ao=1136043&s=58&guid=000001872c2ba1b1a2b99f305f7cd422&src=GD_JOB_AD&t=SR&vt=w&ea=1&cs=1_ff9a4db5&cb=1680073270062&jobListingId=1008526598500&jrtk=3-0-1gsm2n8efh7ip801-1gsm2n8evhaom800-a9e580ec15d3854a-']}, {'title': 'Carpenters', 'url': ['https://www.glassdoor.com/partner/jobListing.htm?pos=102&ao=1110586&s=58&guid=000001872daea8329113afd95c17b948&src=GD_JOB_AD&t=SR&vt=w&ea=1&cs=1_4f99c0b9&cb=1680098634154&jobListingId=1008535566942&cpc=B7FDC7D9565996D0&jrtk=3-0-1gsmqta2hklvp801-1gsmqta3gj4gs800-9c99bfe10a801a85--6NYlbfkN0BCRakJCSAKvcvnDFbK0f_Fz32QIkVCgxCDIgGH2F4RdIIc05k-PCuMceut8YG3enfgJwjljP0MYdBqd47ZoT7Ea4K6afil8tn3bB6LfUYadHgUVwKvwUGkLsjy7dIE7F1E2MmpRNtfiVvmjTgPKWJtUyX0gYRf-n_Y4j3F3S5dGJJ2mHaCx1BiJgehl0gGpIR5YYPWuhKm705qY-lDALuNbuqDpK1H0Ma98DDNicsoBND0bli6b57bhGPfo_FdsqcZi_HlGE3yrE59-uQXYLu35sfi2dRrYZdvKx6tscuEviKd5yqdda3J3jRBXMlawPF5FD0t0FJqMrcCUH9h46y5cI2IxyKp2UKvM31L24Zq2OQ59Q2riomemx04p5vgDUHikPhgyNrm_zW2liFw6JaTowK_cTasIfL5xBFcS0Yau2I0qcGkVJbdfRLQREhrUqwuJuIQw-IIB2vp-UpRjslSq2bOqOwBfnmIPnSZTDWHXcxYxwUMjrsG_LV0h321fw3L_znLKnTniucT1j1u85-osItiqLeAdwOOP4a_E3yDyTNT26oxWfaUsA0Vy0AxPZ4%3D', 'https://www.glassdoor.com/partner/jobListing.htm?pos=106&ao=1110586&s=58&guid=000001872daea8329113afd95c17b948&src=GD_JOB_AD&t=SR&vt=w&ea=1&cs=1_ab644d2f&cb=1680098634154&jobListingId=1008539976953&cpc=46E245B94324F916&jrtk=3-0-1gsmqta2hklvp801-1gsmqta3gj4gs800-4806100d5d9439c3--6NYlbfkN0A4hgeKHdLyHgzaskNEvl2xXMVaueUT71iJOYpLYISQUOQcG1aBlWj2_6MjCS37WhyT8-DslLxZ2Mx6Tdi3FhwKXWQfi-3VGC6zAz46Mk9WQUAndZcXY8w4IRat8BpvutAsmXoBZT-O33uuHoN08-cESGCJ6jJGUfYZeFhZ3Pf_UeWs-lTfSNufpfoqz676TP1gOi_5JbLztj6o4tCYdyH8sPoWciw4rTx2ltuiSMTDElLcuZ3BFgh23cMUHNDo9c2VVT7dlWRGsuwFDXBVPd_Ma7E8pzM9ZOEOpBBnaPH5HcHJqWnbUDFqMFrX2XEhstJoAVE4InShOqSXQiVzGsIeGbYAXkkBosix7PwbUbVY8tRThN5vDuGp3qvAjb5Ffioiw1OVyRq6wzM-QMm3-1BY3MpGevCTr6Nh5Qrf9CoqeIBqrhNZvHFMDhpUbWZ68pAST0-W-634dbIVof4Bn7AabpU9jf-hkJ5Hl04vWqD0TKyUhB2zxpx-9T4QU5rmGH5H7lps24NKQwHu46P6OG8p4gyCIzJHezjMuoFKNujGCTYCB8tsSycGQpwyg_zTFac%3D', 'https://www.glassdoor.com/partner/jobListing.htm?pos=109&ao=1110586&s=58&guid=000001872daea8329113afd95c17b948&src=GD_JOB_AD&t=SR&vt=w&ea=1&cs=1_b7bcd075&cb=1680098634155&jobListingId=1008552650202&cpc=8192C26A3A55C10B&jrtk=3-0-1gsmqta2hklvp801-1gsmqta3gj4gs800-c199f5314f7e5b4b--6NYlbfkN0CwhiUZvT7TmNneryTffurbuBFZVKqDmQUqcuH9GGbvVU4CCKamgxgus5bdfgxe8Y3xQXPfs3Sk9FwaAmohsKgtM5DF-Ikl0RbFmczGj3X_LvXH_v765aXivPUQGjAr_ytcEFVjXRTEOwtc3t2JRno5T2Z-4bAvqOF9wTsElL7gfvVLl48FmqwDsJwHTAW4r1GKQsiNrZfAk74QaCN7eSvuEMXQltqMyQXINcXk35b_zQi7t-KLYzSjS3q_2oo8sxe0Cok87iCsxszxeSVHX3rWwaUmDVAvJRT_PsvfAAjK6rRvzgoAaSOOw0zVdBSEvJg1gJjVTe-tlfJCua-avZR7TNgomckvZax8R7MzzCco_93CIAbU1EoIcWDA-bWgaYa1xWx2KS0aHI-DnzA_k9UT_O5fdv9eTyEaeTSkklswpJPo9CHAc98pGYUBNan48tSBD4Si-9NrK8yejRLKPOgt3T0KN8XlUx5yQPIvQpGAdxWdzn1_VTo36y9F32gf5XZuwZV15fxjcJA9ME9ipECFiowWws8A6gBeqlKqgfGdVEkuxDgfsk5vA5pA10rk2PA6vNYTehcntNDxP3q7OoLeM5BhgPP3-jKR7PYpodtBxddMPpcGLFbN', 'https://www.glassdoor.com/partner/jobListing.htm?pos=118&ao=1110586&s=58&guid=000001872daea8329113afd95c17b948&src=GD_JOB_AD&t=SR&vt=w&ea=1&cs=1_00a4de12&cb=1680098634156&jobListingId=1008552078430&cpc=022796DF6CE1C9E6&jrtk=3-0-1gsmqta2hklvp801-1gsmqta3gj4gs800-b42710dd5b6f9f31--6NYlbfkN0Dx3r3E47sSe5bB3PIy1uzBZvlB7xy2NhfhZMlxQTsxrAv3Y-jI2pqM8Gid56cRb0y3Di4PonKphgLbL8lOV7K7Kr7nzZ9fQtfBpE1WvLQ1XRsHQ5qVGmonJg4xAtOJ2Jb7jVwR3EWR7hVYHVo6RIdAanAoI110dx2Y7Ig10FKehxxsCclJ09KPctaFNi-dvQGIPMjwjNSMoaSjZWGDtz4QFsWFm5KGvj0wIcd-s4RXDFUgb7Fqbf5sVUphBMRzOfjIcqj0uFv4TrsF8SFRmRr-l9d9_uJ9f_D2Cs5TZxewky29cSN_n7-oiB4-4upwdo_pLmanl4sCHnnxmYMncXmjYTEGkrsZJVae9lylAkGSS9M3pGvrDZ8xXD7lFBRF41mrKN8RNpuKvaYjygRfY4BE1NvPkNVxLsNEttFXoR91AHOzpvrld2T03soR45oIcv5Eq0FNQG5pw8OUov455jLxWQYmF7Ik5KNfG8LqHBMMo3cepOcXkw3n_bddrJX9WEsqW1v1VeaZSLIoYV5bPtBwYcRcNEqZoyyHO1CqFAWqI15CSwR0DQfelRZ6O2gd-vM%3D', 'https://www.glassdoor.com/partner/jobListing.htm?pos=125&ao=1110586&s=58&guid=000001872daea8329113afd95c17b948&src=GD_JOB_AD&t=SR&vt=w&ea=1&cs=1_5ded463d&cb=1680098634157&jobListingId=1008541414646&cpc=24589B7DFBADF147&jrtk=3-0-1gsmqta2hklvp801-1gsmqta3gj4gs800-0246f97f0533095a--6NYlbfkN0DWtRa9NJfjQIs4MWRRqD4F41esfMsK79cV24t80VXfzT9KLX-6wUieKBYtrqxPpw0YD1qdvIacSHj3wHnfUGqYUg3x8c82Jq4cgBKxS7_nua5V0wT0OoN8eIlgbKiR8GHrh0hESxsRTC-Z-U8CyV84OvaxnE27xJnaFSDrJgpoBiKxMSMB459N_hMrR-otmpjx2wudp-FS-kWmkADmWI33fyY_sBug1yTLLiP-bCq9plNfO9_RXAD_fm2SxqWWaCv1dBiB3OsWw1JScvqreXfqSuf1PUG7tDLJu61ZpgUCTaK1Oi9KQqRm8maP81W-I2riT4SGb6APRR_JwS6PgE34wnCJ-oBtvszmTDbIQEgPDxLkRQiks30w16UPaX8t44a2rC7jocOmA69O_dpcWPMEH68uG_KD-tBlVc7WwYKQ_8pO-S0O9V9oZeIO3dlRhCpIfVrWsMfzD0HC9fZl_QjGh31hyE_bqGyL2_Yy3--MrJsvTxc-GaGvAFeCEahpzKMkC7ZAFCabn7Bfg9vVyvZ-uToWNhyV9riTbaqTKXxqyeaiOm794LtiZFpyr3Xl1Sg%3D', 'https://www.glassdoor.com/partner/jobListing.htm?pos=421&ao=1110586&s=58&guid=000001872daf1b3fb619f5d00857eb45&src=GD_JOB_AD&t=SR&vt=w&ea=1&cs=1_4f4998f1&cb=1680098663782&jobListingId=1008538242712&cpc=6BBECBC74F3AC36E&jrtk=3-0-1gsmqu6rakf38801-1gsmqu6s1i3a5800-984e4489a2d05f61--6NYlbfkN0BeXzmMqpB0x0Q6Wa38suG9R6wySW-IjHgwl5ss-3Z3HUgM7tkKnIXPCx2C1cfLQfAdQLGuGnZu1ql0RaAYAzGftQGSscLTSW5Qy_mfSE1MfUJP8kZ9oJOJId0sSPEjTHBtP__pAgebxUxBRQC_4qM3v--4S73iz7BVXP-muH7ZBEpeUL5ngv6oHT0_TYBzsRYDp4LnY8sW6mthFqNy0HHWl5U_19WszUrC16ZD8KcG485wZ0TEzxVBRimTJ6xixOOYXpSJDjL792euQBFgeLJG7bmmU1-842DGrnnhDIr55J5ROdQlblAVcNejlOfmPDl7lekvDcpkwsg4vZdOjo0kppki_2IgKtGo1hHCZ_Fu6BRlh3lu6piSgyUMyU_UksDtRW-fwml4_K9rlgMcOALOxYCi7SlxDdQ3PWNiTe44W7bTsZFPke-5Nqi4x5108HiRkPkSkl8dSE8uk5fTcpjKsb1QNPS46QKO8BwwL7p_ueaKFB-TktHd6i4I93Hxoo8UU2f6Io3cQTQQh1g31SpLMzISUExsyYhIK8BFIXbrcAp-nyibMf_o', 'https://www.glassdoor.com/partner/jobListing.htm?pos=613&ao=1110586&s=58&guid=000001872daf4471bae0a70481440e13&src=GD_JOB_AD&t=SR&vt=w&ea=1&cs=1_5e75eb85&cb=1680098674242&jobListingId=1008495527237&cpc=C63BD00756FD6F58&jrtk=3-0-1gsmquh4qjorh801-1gsmquh5jgspg800-af4d989193558096--6NYlbfkN0DjesKvXedyyxFw7KdBJ3MvJqmNuMk0vYSHHgRLEbXW7KgXq4OUBZXN4SckW8sgV96dlncOeI3lf5wlzOwbp77kwguBuXRybFyIR_F4aopcPJfvVwY8fqniLjDvHyO9t7TldKHiYHWAo3WsYN2KqsQ66FKKyWPPQe9D4uiu9svCE26gQtr1SNnWs8Y2qSIvMjo0M6C1lDDyPH5RkQcd2qhbovwKSVLUczdF5MjZ3fMisWcbqWnhmwA2S0xmUbSaAKu-XtX6y8OrH6f1R51zXFy7oUJTkPOK591O6kb3kI8GYs1a_e_RjZpJvEV98gXJZ6qIhm9ahIfUQ2KXYmp70GnO4gA04xj4jnrasP2Vhf2nabjO-k6MJDsrdATgF6fB9p_ZgF0FG4UBto0E9qO2sBk_QtmYbFZPE7KuHXNcR0ngcHjnw3hf78T0hEE_bzggRl8nHu0LWqme04jat8ve2UoOYdiuYsXCO8SsQ1enxNH11VX99d-YoC_n-QtWi2NKX6mwUPylmsL2-Vpot6S7sEQlwL9TLEvZEs5w2JvN_6EUpcsGCx89VW1_ecoM2zzwmtp7U-62KVfC8Q%3D%3D', 'https://www.glassdoor.com/partner/jobListing.htm?pos=710&ao=1110586&s=58&guid=000001872daf5aa8a40d27f80c4f5788&src=GD_JOB_AD&t=SR&vt=w&ea=1&cs=1_1052fdca&cb=1680098679857&jobListingId=1008552650202&cpc=8192C26A3A55C10B&jrtk=3-0-1gsmqummiklti801-1gsmqumnbma4r800-c199f5314f7e5b4b--6NYlbfkN0CwhiUZvT7TmNneryTffurbuBFZVKqDmQUqcuH9GGbvVU4CCKamgxgus5bdfgxe8Y3xQXPfs3Sk9FwaAmohsKgtM5DF-Ikl0RbFmczGj3X_LvXH_v765aXivPUQGjAr_ytcEFVjXRTEOwtc3t2JRno5T2Z-4bAvqOF9wTsElL7gfvVLl48FmqwDsJwHTAW4r1G-MdoYO6udWs2uPPPRG8O9JuypPjiUogddKhfgX9yq_TaBbEcZmOkZRRE1ogxayV3rgVf1CQFWr9qLoLmfgPvqYWdPkp5RoaJzy4Y2rNoyWuKMs40LB6EPMm3BtWdwfWV8mCmSMAKh1_TDcv4-f4qLifUCZRpi8Z3SoqczPFITic52jmrChm-hbjJml_cLLDoMSop_KLvQW3RFhf8JZAOlZrUplr4VhQYuLNcoMB9lvwYPQBeiLAh89GXYa6jnpMK5B0xg7xkSBw5mhjYOfJ9dBfnuWDyTwU7huZIC_RdJExA0wSd0BYE8iBpTSUpcsEOV8YaAtvP2k_3rZofMDr-OcwAtYvoTffA41-UAELout12dDamctQ90wuHr1c4vM-5F3hZRGDRhHIYHqEILRpSuX71vEWiJ8wL0aHS9fEKJBxEkBei13pM7', 'https://www.glassdoor.com/partner/jobListing.htm?pos=910&ao=1110586&s=58&guid=000001872daf83f5849d8fc6c2653852&src=GD_JOB_AD&t=SR&vt=w&ea=1&cs=1_c8869aa5&cb=1680098690413&jobListingId=1008552650202&cpc=8192C26A3A55C10B&jrtk=3-0-1gsmqv10rmbj6801-1gsmqv11hi4ml800-c199f5314f7e5b4b--6NYlbfkN0CwhiUZvT7TmNneryTffurbuBFZVKqDmQUqcuH9GGbvVU4CCKamgxgus5bdfgxe8Y3xQXPfs3Sk9FwaAmohsKgtM5DF-Ikl0RbFmczGj3X_LvXH_v765aXivPUQGjAr_ytcEFVjXRTEOwtc3t2JRno5T2Z-4bAvqOF9wTsElL7gfvVLl48FmqwDsJwHTAW4r1ETnhJ84D8P5WdkHzx-HFNRopbEGt7Khp7gxbbACtmxNLjGAn_fHk2pyx0q7Cvsg9tVbVENmBlkpONOK1drcp1QWLJrw3hBiLO2xfTtLQft35W3wE_tgu6u9Oz4xjxKLQC9TP45UiPRcfKvUSD0nErDTPoWjGie-X02exBcxmOM6LY8MoQ8zceDSrbBt5Djbz39-1d5s09g9LECVM1OoCaQClW7cugJgGAtY9Mb1ol1PgnRC_Umm6dVZKZiz-6ymSZhtoDBXM1VZMqnIl6NrqAoN9Y62Ur3aYp0K9wSk6B_0EEREsEjkyig8KedqLAJjbzpgJ58UXlcK0tldvDgonLP47BYOazGpM0-84isVL5ZBIjcMtPodBe0vtkCdXuneAra7ZrUQALJ4A11RA_RA6Y4cesNgWgL2zpGf1sFMppGV_SlIJtqg_9j', 'https://www.glassdoor.com/partner/jobListing.htm?pos=927&ao=1110586&s=58&guid=000001872daf83f5849d8fc6c2653852&src=GD_JOB_AD&t=SR&vt=w&ea=1&cs=1_6eff9a4e&cb=1680098690416&jobListingId=1008541414646&cpc=24589B7DFBADF147&jrtk=3-0-1gsmqv10rmbj6801-1gsmqv11hi4ml800-0246f97f0533095a--6NYlbfkN0DWtRa9NJfjQIs4MWRRqD4F41esfMsK79cV24t80VXfzT9KLX-6wUieKBYtrqxPpw0YD1qdvIacSHj3wHnfUGqYUg3x8c82Jq4cgBKxS7_nua5V0wT0OoN8eIlgbKiR8GHrh0hESxsRTC-Z-U8CyV84OvaxnE27xJnaFSDrJgpoBiKxMSMB459N_hMrR-otmpjx2wudp-FS-n-9biWcEdESmJLf9rwTR64uDj0SoRJ2WLvrDMPJpst-n8ZFZZEaXUuInWqtUT4_OIHgLi_KUF4WXQmjUPReCghpd5nV_WN-UBWbmP4hBJVhDNJPG2LmbYg2ZvSfSJl_VMWgV5xiYHHVY147P0oZqBucTFVNIRwEb48BIHB4SOkLTngHoa7fUPaX3GAmT4dbJh0IV0ojYqUFN52n4GCreiyv5209FRahVfxLrfdUIPKLCL4VQibAPn30mzdRQoSWz8B7U7w6QpiZCpB-eCO3rbrxn47Lz9DrOkuGVh65iPOF3XebPA0tNgDNAOzSrCZUOJexNHbdjYmnYwzlkHddu4fOJGAglVe-0N4ETqsXFDuElLlTnMMLT84%3D']}, {'title': 'Drywall and Ceiling Tile Installers', 'url': []}, {'title': 'Advertising and Promotions Managers', 'url': []}, {'title': 'Compliance Managers', 'url': ['https://www.glassdoor.com/partner/jobListing.htm?pos=121&ao=1136043&s=58&guid=000001872dbd7da28b2e1452bc2732b1&src=GD_JOB_AD&t=SR&vt=w&ea=1&cs=1_27aae9a5&cb=1680099606289&jobListingId=1008541233731&jrtk=3-0-1gsmrqvegp2nl801-1gsmrqvf821v2000-f8df829b9eea4c80-']}]}\n"
     ]
    }
   ],
   "source": [
    "job_recommended_list = {\"jobs\": []}\n",
    "for job in recommended_jobs:\n",
    "    job_title_postings = {}\n",
    "    job_title_postings[\"title\"] = job\n",
    "    job_title_postings[\"url\"] = []\n",
    "    for i in range(occ_postings_df.shape[0]):\n",
    "        if occ_postings_df.iloc[i, 1].lower() in job.lower():\n",
    "            job_title_postings[\"url\"].append(occ_postings_df.iloc[i, 2])\n",
    "    job_recommended_list[\"jobs\"].append(job_title_postings)\n",
    "\n",
    "print(job_recommended_list)\n"
   ]
  },
  {
   "cell_type": "code",
   "execution_count": null,
   "id": "42ed0488",
   "metadata": {},
   "outputs": [],
   "source": []
  }
 ],
 "metadata": {
  "kernelspec": {
   "display_name": "Python 3 (ipykernel)",
   "language": "python",
   "name": "python3"
  },
  "language_info": {
   "codemirror_mode": {
    "name": "ipython",
    "version": 3
   },
   "file_extension": ".py",
   "mimetype": "text/x-python",
   "name": "python",
   "nbconvert_exporter": "python",
   "pygments_lexer": "ipython3",
   "version": "3.9.16"
  }
 },
 "nbformat": 4,
 "nbformat_minor": 5
}
